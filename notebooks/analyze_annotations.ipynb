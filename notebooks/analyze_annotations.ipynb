{
 "cells": [
  {
   "cell_type": "code",
   "execution_count": 12,
   "id": "ed85a15d",
   "metadata": {},
   "outputs": [
    {
     "data": {
      "text/plain": [
       "PosixPath('/Users/dantrainer/projects/live-bib-tracking')"
      ]
     },
     "execution_count": 12,
     "metadata": {},
     "output_type": "execute_result"
    }
   ],
   "source": [
    "import os\n",
    "from pathlib import Path\n",
    "import cv2\n",
    "import pandas as pd\n",
    "\n",
    "ROOT = Path(os.getcwd()).parents[0]\n",
    "\n",
    "ROOT"
   ]
  },
  {
   "cell_type": "code",
   "execution_count": 13,
   "id": "c19b20c6",
   "metadata": {},
   "outputs": [],
   "source": [
    "FRAME_DIR = os.path.join(ROOT, \"data\", \"processed\", \"frames\") "
   ]
  },
  {
   "cell_type": "code",
   "execution_count": 23,
   "id": "1aa7af3b",
   "metadata": {},
   "outputs": [],
   "source": [
    "import json\n",
    "\n",
    "for dirpath, dirnames, filenames in os.walk(FRAME_DIR):\n",
    "    records = []\n",
    "    for file_ in filenames:\n",
    "        if not file_.endswith('.json'):\n",
    "            continue \n",
    "        \n",
    "        with open(os.path.join(dirpath, file_), 'r') as f:\n",
    "            data = json.load(f)\n",
    "        \n",
    "        # Extract shape info\n",
    "        for shape in data['shapes']:\n",
    "            label = shape['label']\n",
    "            x1, y1 = shape['points'][0]\n",
    "            x2, y2 = shape['points'][1]\n",
    "            image_path = data['imagePath']\n",
    "\n",
    "            records.append({\n",
    "                'image': image_path,\n",
    "                'label': label,\n",
    "                'x1': x1,\n",
    "                'y1': y1,\n",
    "                'x2': x2,\n",
    "                'y2': y2\n",
    "            })\n",
    "\n",
    "df_annotations = pd.DataFrame(records)"
   ]
  },
  {
   "cell_type": "code",
   "execution_count": 28,
   "id": "cfe63065",
   "metadata": {},
   "outputs": [
    {
     "data": {
      "text/plain": [
       "<Axes: >"
      ]
     },
     "execution_count": 28,
     "metadata": {},
     "output_type": "execute_result"
    },
    {
     "data": {
      "image/png": "[encoded data removed]",
      "text/plain": [
       "<Figure size 640x480 with 1 Axes>"
      ]
     },
     "metadata": {},
     "output_type": "display_data"
    }
   ],
   "source": [
    "df_annotations['x1'].hist()\n",
    "df_annotations['y1'].hist()\n",
    "df_annotations['x2'].hist()\n",
    "df_annotations['y2'].hist()"
   ]
  },
  {
   "cell_type": "markdown",
   "id": "aac19b9d",
   "metadata": {},
   "source": [
    "TODOs:\n",
    "- Modeling/Preprocessing\n",
    "    - pre-processing code to crop image to important part of the finish line (to avoid noise)\n",
    "    - augment data with open source data of bibs\n",
    "    - evaluate OCR methods on ground truth bounding boxes (tesseract, easyocr, rekognition?)\n",
    " "
   ]
  },
  {
   "cell_type": "markdown",
   "id": "cb7531f5",
   "metadata": {},
   "source": []
  }
 ],
 "metadata": {
  "kernelspec": {
   "display_name": "bib_env",
   "language": "python",
   "name": "python3"
  },
  "language_info": {
   "codemirror_mode": {
    "name": "ipython",
    "version": 3
   },
   "file_extension": ".py",
   "mimetype": "text/x-python",
   "name": "python",
   "nbconvert_exporter": "python",
   "pygments_lexer": "ipython3",
   "version": "3.11.13"
  }
 },
 "nbformat": 4,
 "nbformat_minor": 5
}
