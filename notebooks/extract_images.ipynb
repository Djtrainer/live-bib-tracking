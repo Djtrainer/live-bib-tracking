{
 "cells": [
  {
   "cell_type": "code",
   "execution_count": 1,
   "id": "ed85a15d",
   "metadata": {},
   "outputs": [
    {
     "data": {
      "text/plain": [
       "PosixPath('/Users/dantrainer/projects/live-bib-tracking')"
      ]
     },
     "execution_count": 1,
     "metadata": {},
     "output_type": "execute_result"
    }
   ],
   "source": [
    "import os\n",
    "from pathlib import Path\n",
    "import cv2\n",
    "\n",
    "ROOT = Path(os.getcwd()).parents[0]\n",
    "\n",
    "ROOT"
   ]
  },
  {
   "cell_type": "code",
   "execution_count": null,
   "id": "c19b20c6",
   "metadata": {},
   "outputs": [],
   "source": [
    "VIDEO_PATH = os.path.join(ROOT, \"data\", \"raw\", \"2024_race.MOV\")\n",
    "OUTPUT_DIR = os.path.join(ROOT, \"data\", \"processed\", \"frames\") \n",
    "FRAME_SKIP = 150"
   ]
  },
  {
   "cell_type": "code",
   "execution_count": null,
   "id": "1aa7af3b",
   "metadata": {},
   "outputs": [
    {
     "name": "stdout",
     "output_type": "stream",
     "text": [
      "Extracting frames from: /Users/dantrainer/projects/live-bib-tracking/data/raw/2024_race.MOV\n",
      "Saved: frame_00000.jpg\n",
      "Saved: frame_00001.jpg\n",
      "Saved: frame_00002.jpg\n",
      "Saved: frame_00003.jpg\n",
      "Saved: frame_00004.jpg\n",
      "Saved: frame_00005.jpg\n",
      "Saved: frame_00006.jpg\n",
      "Saved: frame_00007.jpg\n"
     ]
    }
   ],
   "source": [
    "# === CREATE OUTPUT DIR ===\n",
    "os.makedirs(OUTPUT_DIR, exist_ok=True)\n",
    "\n",
    "# === OPEN VIDEO ===\n",
    "cap = cv2.VideoCapture(VIDEO_PATH)\n",
    "if not cap.isOpened():\n",
    "    raise IOError(f\"Cannot open video: {VIDEO_PATH}\")\n",
    "\n",
    "frame_count = 0\n",
    "saved_count = 0\n",
    "\n",
    "print(f\"Extracting frames from: {VIDEO_PATH}\")\n",
    "\n",
    "while True:\n",
    "    ret, frame = cap.read()\n",
    "    if not ret:\n",
    "        break\n",
    "\n",
    "    if frame_count % FRAME_SKIP == 0:\n",
    "        filename = f\"frame_{saved_count:05d}.jpg\"\n",
    "        cv2.imwrite(os.path.join(OUTPUT_DIR, filename), frame)\n",
    "        print(f\"Saved: {filename}\")\n",
    "        saved_count += 1\n",
    "\n",
    "    frame_count += 1\n",
    "\n",
    "cap.release()\n"
   ]
  }
 ],
 "metadata": {
  "kernelspec": {
   "display_name": "bib_env",
   "language": "python",
   "name": "python3"
  },
  "language_info": {
   "codemirror_mode": {
    "name": "ipython",
    "version": 3
   },
   "file_extension": ".py",
   "mimetype": "text/x-python",
   "name": "python",
   "nbconvert_exporter": "python",
   "pygments_lexer": "ipython3",
   "version": "3.11.13"
  }
 },
 "nbformat": 4,
 "nbformat_minor": 5
}
