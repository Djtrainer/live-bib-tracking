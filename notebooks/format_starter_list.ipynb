{
 "cells": [
  {
   "cell_type": "code",
   "execution_count": null,
   "id": "998079b7",
   "metadata": {},
   "outputs": [],
   "source": [
    "import pandas as pd\n",
    "df = pd.read_csv(\"/Users/dantrainer/projects/live-bib-tracking/data/results/Slay Sarcoma 323.xlsx - Bib Assignments.csv\")"
   ]
  },
  {
   "cell_type": "code",
   "execution_count": null,
   "id": "4ed3f7e1",
   "metadata": {},
   "outputs": [],
   "source": [
    "df[\"racerName\"] = df[\"First Name\"] + \" \" + df[\"Last Name\"]\n",
    "df_out = df[[\"Bib\", \"racerName\", \"Gender\", \"Age\"]]\n",
    "df_out.dropna(subset=[\"Bib\"], inplace=True)\n",
    "\n",
    "df_out = df_out.rename(columns={\"Bib\": \"bibNumber\", \"Gender\": \"gender\"})\n",
    "df_out[\"gender\"] = df_out[\"gender\"].apply(\n",
    "    lambda x: \n",
    "    \"Male\" if x == \"M\" else \n",
    "    \"Female\" if x == \"F\" else\n",
    "    x)\n",
    "df_out[\"team\"] = df_out[\"Age\"].apply(\n",
    "    lambda x: \n",
    "    \"Age 7 - 9\" if x <= 9 else\n",
    "    \"Age 10 - 12\" if x <= 12 else\n",
    "    \"Age 13 - 15\" if x <= 15 else\n",
    "    \"Age 16 - 18\" if x <= 19 else\n",
    "    \"Age 19 and up\"\n",
    ")\n",
    "df_out[\"Age\"] = df_out[\"Age\"].fillna(100).astype(int)\n",
    "df_out[\"bibNumber\"] = df_out[\"bibNumber\"].astype(int)\n",
    "df_out"
   ]
  },
  {
   "cell_type": "code",
   "execution_count": null,
   "id": "fe5840a1",
   "metadata": {},
   "outputs": [],
   "source": [
    "df_out.to_csv(\"../data/results/test_starter_list_real.csv\", index=False)"
   ]
  }
 ],
 "metadata": {
  "kernelspec": {
   "display_name": "bib_env",
   "language": "python",
   "name": "python3"
  },
  "language_info": {
   "codemirror_mode": {
    "name": "ipython",
    "version": 3
   },
   "file_extension": ".py",
   "mimetype": "text/x-python",
   "name": "python",
   "nbconvert_exporter": "python",
   "pygments_lexer": "ipython3",
   "version": "3.11.13"
  }
 },
 "nbformat": 4,
 "nbformat_minor": 5
}
